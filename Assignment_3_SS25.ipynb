{
 "cells": [
  {
   "cell_type": "markdown",
   "id": "82e7877d",
   "metadata": {
    "id": "82e7877d"
   },
   "source": [
    "# Assignmnet 3 (100 + 5 points)"
   ]
  },
  {
   "cell_type": "markdown",
   "id": "297b6d20",
   "metadata": {
    "id": "297b6d20"
   },
   "source": [
    "**Name:** Kotoomi Fukushima<br>\n",
    "**Email:** kof6267@thi.de<br>\n",
    "**Group:** A <br>\n",
    "**Hours spend *(optional)* :** <br>"
   ]
  },
  {
   "cell_type": "markdown",
   "id": "18a6e95c",
   "metadata": {
    "id": "18a6e95c"
   },
   "source": [
    "<h3> Submission </h3>\n",
    "\n",
    "Submit your files in a zip file : firstname_lastname.zip. !!!"
   ]
  },
  {
   "cell_type": "markdown",
   "id": "XOEFBrPDZbEK",
   "metadata": {
    "id": "XOEFBrPDZbEK"
   },
   "source": [
    "# Question 1: Word Embeddings (Word2Vec) *(30 points)*\n",
    "\n",
    "Word2Vec is a popular technique in natural language processing (NLP) for learning vector representations of words, also known as word embeddings. These embeddings capture semantic relationships between words, such that words used in similar contexts are placed close to each other in the vector space.\n",
    "\n",
    "There are two main architectures for Word2Vec:\n",
    "\n",
    "- **Continuous Bag-of-Words (CBOW):** Predicts the current word based on its context (surrounding words).\n",
    "- **Skip-Gram:** Predicts surrounding words given the current word.\n",
    "\n",
    "In this tutorial, you will implement a simplified version of the Skip-Gram model using Python and train it on a given dataset.\n",
    "\n",
    "---\n",
    "\n",
    "## Your Task:\n",
    "\n",
    "#### **Data Preparation:**\n",
    "\n",
    "- Given a corpus of text (word2vec_dataset.en) attached, preprocess the data to create training examples suitable for a Skip-Gram model.\n",
    "- Implement functions to tokenize the text, build a vocabulary, and generate input-output pairs for training.\n",
    "\n",
    "#### **Implement a Simple Skip-Gram Model:**\n",
    "\n",
    "- implement a simple neural network representing the Skip-Gram architecture.\n",
    "- The model should learn word embeddings by training on the generated input-output pairs.\n",
    "\n",
    "#### **Train the Model:**\n",
    "\n",
    "- Train your Skip-Gram model on the prepared data.\n",
    "- Use appropriate loss functions and optimization algorithms.\n",
    "\n",
    "#### **Visualize Word Embeddings:**\n",
    "\n",
    "- After training, visualize the learned word embeddings in 2D space using techniques like PCA or t-SNE.\n",
    "- Plot the words to observe how similar words are positioned relative to each other.\n",
    "\n",
    "\n",
    "#### **Notes:**\n",
    "\n",
    "- If the training process is slow, consider reducing the size of the dataset to improve training speed.\n",
    "\n",
    "### Allowed Libraries:\n",
    "- **collections** for building vocabulary.\n",
    "- **NumPy:** For numerical computations.\n",
    "- **Matplotlib:** For plotting and visualization.\n",
    "- **scikit-learn (sklearn):** For dimensionality reduction techniques like PCA or t-SNE, evaluation metrics.\n",
    "- **TensorFlow or PyTorch** if you prefer to implement the model using these frameworks. However, since the challenge aims to be simple and educational, using NumPy suffices.\n",
    "\n",
    "\n"
   ]
  },
  {
   "cell_type": "code",
   "execution_count": 15,
   "id": "wTaTg7vBbWfI",
   "metadata": {
    "id": "wTaTg7vBbWfI",
    "scrolled": true
   },
   "outputs": [
    {
     "name": "stdout",
     "output_type": "stream",
     "text": [
      "Epoch 1, Loss: 149402.6265\n",
      "Epoch 1, Avg Loss: 7.4724\n",
      "Epoch 2, Loss: 148487.0472\n",
      "Epoch 2, Avg Loss: 7.4266\n",
      "Epoch 3, Loss: 144630.4359\n",
      "Epoch 3, Avg Loss: 7.2337\n",
      "Epoch 4, Loss: 141264.3870\n",
      "Epoch 4, Avg Loss: 7.0653\n",
      "Epoch 5, Loss: 137824.3093\n",
      "Epoch 5, Avg Loss: 6.8933\n",
      "Epoch 6, Loss: 134578.1324\n",
      "Epoch 6, Avg Loss: 6.7309\n",
      "Epoch 7, Loss: 131875.8667\n",
      "Epoch 7, Avg Loss: 6.5958\n",
      "Epoch 8, Loss: 129763.1364\n",
      "Epoch 8, Avg Loss: 6.4901\n",
      "Epoch 9, Loss: 128109.3605\n",
      "Epoch 9, Avg Loss: 6.4074\n",
      "Epoch 10, Loss: 126816.7079\n",
      "Epoch 10, Avg Loss: 6.3427\n"
     ]
    }
   ],
   "source": [
    "import numpy as np\n",
    "import matplotlib.pyplot as plt\n",
    "from collections import Counter\n",
    "from sklearn.decomposition import PCA\n",
    "\n",
    "\n",
    "def read_file(path):\n",
    "    with open(path, \"r\", encoding = \"utf-8\") as file:\n",
    "        text = file.read().lower().replace(\"\\n\", \" \") #convert to lowercase and remove new lines\n",
    "    return text\n",
    "\n",
    "def clean_text(text): #remove punctuations and symbols\n",
    "    clean_text = \"\" #initialize clean text\n",
    "    for char in text:\n",
    "        if char.isalnum() or char.isspace():\n",
    "            clean_text += char\n",
    "        else:\n",
    "            clean_text += \"\"\n",
    "    return clean_text\n",
    "\n",
    "def load_and_prepare(path, max_tokens=5000):\n",
    "    text = read_file(path)\n",
    "    cleaned = clean_text(text)\n",
    "    tokens = cleaned.split() #list of words\n",
    "    return tokens[:max_tokens]\n",
    "\n",
    "def build_vocab(tokens, max_vocab_size=2000):\n",
    "    word_count = Counter(tokens)\n",
    "\n",
    "    most_common_words = [word for word, count in word_count.most_common(max_vocab_size)]\n",
    "    \n",
    "    #assign unique ID\n",
    "    word2idx = {word: idx for idx, word in enumerate(most_common_words)}\n",
    "    idx2word = {idx: word for word, idx in word2idx.items()}\n",
    "\n",
    "    return word2idx, idx2word\n",
    "\n",
    "def generate_training_pair(tokens, word2idx, windowsize=2):\n",
    "    training_pairs = []\n",
    "    \n",
    "    for i, word in enumerate(tokens):\n",
    "        for j in range(i - windowsize, i + windowsize + 1):\n",
    "            if j != i and 0 <= j < len(tokens):\n",
    "                context_word = tokens[j]\n",
    "                pair = (word2idx[word], word2idx[context_word])\n",
    "                training_pairs.append(pair)\n",
    "                \n",
    "    return training_pairs\n",
    "\n",
    "def initialize_parameters(vocab_size, embedding_dim):\n",
    "    # Word embedding matrix (input -> hidden)\n",
    "    W1 = np.random.randn(vocab_size, embedding_dim) * 0.01\n",
    "\n",
    "    # Output weight matrix (hidden -> output)\n",
    "    W2 = np.random.randn(embedding_dim, vocab_size) * 0.01\n",
    "\n",
    "    return W1, W2\n",
    "    \n",
    "def softmax(x):\n",
    "    e_x = np.exp(x - np.max(x))  \n",
    "    return e_x / np.sum(e_x)\n",
    "\n",
    "def forward_backward(center_idx, context_idx, W1, W2, vocab_size, learning_rate=0.01):\n",
    "    # One-hot encode center word\n",
    "    x = np.zeros(vocab_size)\n",
    "    x[center_idx] = 1\n",
    "\n",
    "    # Forward pass\n",
    "    h = W1.T @ x  # Hidden layer: (embedding_dim,)\n",
    "    u = W2.T @ h  # Output scores: (vocab_size,)\n",
    "    y_pred = softmax(u)\n",
    "\n",
    "    # Compute loss \n",
    "    loss = -np.log(y_pred[context_idx])\n",
    "\n",
    "    # Backpropagation\n",
    "    # Gradient of output\n",
    "    y_true = np.zeros(vocab_size)\n",
    "    y_true[context_idx] = 1\n",
    "    e = y_pred - y_true  # error\n",
    "\n",
    "    # Gradient for W2 and W1\n",
    "    dW2 = np.outer(h, e)\n",
    "    dW1 = np.outer(x, W2 @ e)\n",
    "\n",
    "    # Update weights\n",
    "    W1 -= learning_rate * dW1\n",
    "    W2 -= learning_rate * dW2\n",
    "\n",
    "    return loss\n",
    "    \n",
    "def train_skipgram(training_pairs, vocab_size, embedding_dim=50, epochs=5, learning_rate=0.01):\n",
    "    W1, W2 = initialize_parameters(vocab_size, embedding_dim)\n",
    "\n",
    "    for epoch in range(epochs):\n",
    "        total_loss = 0\n",
    "        for center_idx, context_idx in training_pairs:\n",
    "            loss = forward_backward(center_idx, context_idx, W1, W2, vocab_size, learning_rate)\n",
    "            total_loss += loss\n",
    "        print(f\"Epoch {epoch+1}, Loss: {total_loss:.4f}\")\n",
    "        avg_loss = total_loss / len(training_pairs)\n",
    "        print(f\"Epoch {epoch+1}, Avg Loss: {avg_loss:.4f}\")\n",
    "\n",
    "    \n",
    "    return W1  # W1 holds the learned embeddings\n",
    "\n",
    "def visualize_embeddings(W1, idx2word, top_n):\n",
    "    pca = PCA(n_components=2)\n",
    "    reduced = pca.fit_transform(W1[:top_n])  \n",
    "\n",
    "    plt.figure(figsize=(12, 8))\n",
    "    for i in range(top_n):\n",
    "        plt.scatter(reduced[i, 0], reduced[i, 1])\n",
    "        plt.annotate(idx2word[i], (reduced[i, 0], reduced[i, 1]))\n",
    "    plt.title(\"Word2Vec Embedding Visualization (PCA)\")\n",
    "    plt.show()\n",
    "\n",
    "path = \"word2vec_dataset.en\"\n",
    "tokens = load_and_prepare(path)\n",
    "word2idx, idx2word = build_vocab(tokens)\n",
    "training_pairs = generate_training_pair(tokens,word2idx)\n",
    "vocab_size = len(word2idx)\n",
    "W1 = train_skipgram(training_pairs, vocab_size, embedding_dim=50, epochs=10, learning_rate=0.01)\n",
    "\n",
    "\n",
    "# Help; chatGPT"
   ]
  },
  {
   "cell_type": "code",
   "execution_count": 16,
   "id": "c94e25f9",
   "metadata": {},
   "outputs": [
    {
     "data": {
      "image/png": "[encoded data removed]",
      "text/plain": [
       "<Figure size 1200x800 with 1 Axes>"
      ]
     },
     "metadata": {},
     "output_type": "display_data"
    }
   ],
   "source": [
    "visualize_embeddings(W1, idx2word, top_n=50)\n"
   ]
  },
  {
   "cell_type": "markdown",
   "id": "09f79f88",
   "metadata": {
    "id": "09f79f88"
   },
   "source": [
    "# Question 2: Transformer model *(70 points)*"
   ]
  },
  {
   "cell_type": "markdown",
   "id": "23bd0c1a",
   "metadata": {
    "id": "23bd0c1a"
   },
   "source": [
    "As a Machine Learning engineer at a tech company, you were given a task to develop a machine translation system that translates **English (source) to German (Target)**. You have the freedom to select any dataset for training the model. Use a small subset of data as a validation dataset and report the BLEU score on the validation set.\n",
    "\n",
    "Also, provide a short description of your transformer model architecture, hyperparameters, and training (also provide the train-validation loss curve). Write your findings and analysis in paragraphs.\n"
   ]
  },
  {
   "cell_type": "markdown",
   "id": "97a4d2da",
   "metadata": {
    "id": "97a4d2da"
   },
   "source": [
    "**Dataset**\n",
    "\n",
    "Here are some of the parallel datasets (see Datasets and Resources file):\n",
    "* Europarl Parallel corpus - https://www.statmt.org/europarl/v7/de-en.tgz\n",
    "* News Commentary - https://www.statmt.org/wmt14/training-parallel-nc-v9.tgz (use DE-EN parallel data)\n",
    "* Common Crawl corpus - https://www.statmt.org/wmt13/training-parallel-commoncrawl.tgz (use DE-EN parallel data)\n",
    "\n",
    "You can also use other datasets of your choice. In this case please add the dataset you used to the submission zip file.\n",
    "\n",
    "In the above datasets, **'.en'** file has the text in English, and **'.de'** file contains their corresponding German translations.\n",
    "\n"
   ]
  },
  {
   "cell_type": "markdown",
   "id": "4f05905b",
   "metadata": {
    "id": "4f05905b"
   },
   "source": [
    "## Notes:\n",
    "1. You can also consider using a small subset of the dataset if the training dataset is large\n",
    "2. Sometimes you can also get out of memory errors while training, so choose the hyperparameters carefully.\n",
    "3. Your training will be much faster if you use a GPU (Edit -> Notebook settings). If you are using a CPU, it may take several hours or even days. (you can also use Google Colab GPUs for training. link: https://colab.research.google.com/)\n",
    "4. It is a best practise to leverage vector representations learned in Q1 in your training as starting point for the embedding layer.\n",
    "\n",
    "\n"
   ]
  },
  {
   "cell_type": "code",
   "execution_count": null,
   "id": "7b0e2660-2aa2-497e-bb54-43110861ef30",
   "metadata": {},
   "outputs": [
    {
     "name": "stdout",
     "output_type": "stream",
     "text": [
      "[]\n"
     ]
    }
   ],
   "source": [
    "# My answer is in the different file named assignment_3_q2.ipynb in the same folder\n"
   ]
  },
  {
   "cell_type": "code",
   "execution_count": null,
   "id": "dRgxcfiejrrI",
   "metadata": {
    "id": "dRgxcfiejrrI"
   },
   "outputs": [],
   "source": []
  },
  {
   "cell_type": "code",
   "execution_count": null,
   "id": "1ca3437d-ef72-4f12-bdb5-adb48d7ba63b",
   "metadata": {},
   "outputs": [
    {
     "name": "stdout",
     "output_type": "stream",
     "text": [
      "A\n"
     ]
    }
   ],
   "source": []
  },
  {
   "cell_type": "markdown",
   "id": "g1FVc00FaSmt",
   "metadata": {
    "id": "g1FVc00FaSmt"
   },
   "source": [
    "### Additional Experiments *(5 additional points - <span style=\"color: red;\">Optional</span>)*"
   ]
  },
  {
   "cell_type": "code",
   "execution_count": null,
   "id": "7gOE_ckqaTVY",
   "metadata": {
    "id": "7gOE_ckqaTVY"
   },
   "outputs": [],
   "source": []
  }
 ],
 "metadata": {
  "accelerator": "GPU",
  "colab": {
   "gpuType": "T4",
   "provenance": []
  },
  "kernelspec": {
   "display_name": "Python (torch 2.6)",
   "language": "python",
   "name": "torch-2.6"
  },
  "language_info": {
   "codemirror_mode": {
    "name": "ipython",
    "version": 3
   },
   "file_extension": ".py",
   "mimetype": "text/x-python",
   "name": "python",
   "nbconvert_exporter": "python",
   "pygments_lexer": "ipython3",
   "version": "3.11.9"
  }
 },
 "nbformat": 4,
 "nbformat_minor": 5
}
